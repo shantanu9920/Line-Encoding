{
 "cells": [
  {
   "cell_type": "code",
   "execution_count": 2,
   "metadata": {
    "collapsed": false
   },
   "outputs": [
    {
     "data": {
      "image/png": "[encoded data removed]",
      "text/plain": [
       "<matplotlib.figure.Figure at 0x28bfce16518>"
      ]
     },
     "metadata": {},
     "output_type": "display_data"
    }
   ],
   "source": [
    "import matplotlib.pyplot as plt\n",
    "\n",
    "\n",
    "def amif(n):\n",
    "    signal = []\n",
    "    x = []\n",
    "    high = 2.5\n",
    "    low = -2.5\n",
    "    neutral = 0\n",
    "    count = 0\n",
    "\n",
    "    previous = 0\n",
    "\n",
    "    for i in n:\n",
    "        if i == 0:\n",
    "            x.append(count)\n",
    "            signal.append(neutral)\n",
    "            count = count+1\n",
    "            x.append(count)\n",
    "            signal.append(neutral)\n",
    "            previous = 0\n",
    "        else:\n",
    "            if previous == 0:\n",
    "                x.append(count)\n",
    "                signal.append(high)\n",
    "                count = count+1\n",
    "                x.append(count)\n",
    "                signal.append(high)\n",
    "                previous = 1\n",
    "            else:\n",
    "                x.append(count)\n",
    "                signal.append(low)\n",
    "                count = count+1\n",
    "                x.append(count)\n",
    "                signal.append(low)\n",
    "                previous = 0\n",
    "    plt.plot(x,signal)\n",
    "    plt.show()\n",
    "    \n",
    "\n"
   ]
  },
  {
   "cell_type": "code",
   "execution_count": null,
   "metadata": {
    "collapsed": true
   },
   "outputs": [],
   "source": []
  }
 ],
 "metadata": {
  "kernelspec": {
   "display_name": "Python 3",
   "language": "python",
   "name": "python3"
  },
  "language_info": {
   "codemirror_mode": {
    "name": "ipython",
    "version": 3
   },
   "file_extension": ".py",
   "mimetype": "text/x-python",
   "name": "python",
   "nbconvert_exporter": "python",
   "pygments_lexer": "ipython3",
   "version": "3.6.0"
  }
 },
 "nbformat": 4,
 "nbformat_minor": 2
}
