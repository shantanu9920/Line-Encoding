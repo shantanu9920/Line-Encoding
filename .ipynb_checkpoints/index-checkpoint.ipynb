{
 "cells": [
  {
   "cell_type": "code",
   "execution_count": 55,
   "metadata": {
    "collapsed": false
   },
   "outputs": [
    {
     "ename": "NameError",
     "evalue": "name 'raw_input' is not defined",
     "output_type": "error",
     "traceback": [
      "\u001b[0;31m---------------------------------------------------------------------------\u001b[0m",
      "\u001b[0;31mNameError\u001b[0m                                 Traceback (most recent call last)",
      "\u001b[0;32m<ipython-input-55-921d3a10ffe0>\u001b[0m in \u001b[0;36m<module>\u001b[0;34m()\u001b[0m\n\u001b[1;32m      1\u001b[0m \u001b[1;32mimport\u001b[0m \u001b[0mmatplotlib\u001b[0m\u001b[1;33m.\u001b[0m\u001b[0mpyplot\u001b[0m \u001b[1;32mas\u001b[0m \u001b[0mplt\u001b[0m\u001b[1;33m\u001b[0m\u001b[0m\n\u001b[1;32m      2\u001b[0m \u001b[1;33m\u001b[0m\u001b[0m\n\u001b[0;32m----> 3\u001b[0;31m \u001b[0mk\u001b[0m \u001b[1;33m=\u001b[0m \u001b[0mraw_input\u001b[0m\u001b[1;33m(\u001b[0m\u001b[1;33m)\u001b[0m\u001b[1;33m\u001b[0m\u001b[0m\n\u001b[0m\u001b[1;32m      4\u001b[0m \u001b[0mn\u001b[0m \u001b[1;33m=\u001b[0m \u001b[1;33m[\u001b[0m\u001b[0mint\u001b[0m\u001b[1;33m(\u001b[0m\u001b[0md\u001b[0m\u001b[1;33m)\u001b[0m \u001b[1;32mfor\u001b[0m \u001b[0md\u001b[0m \u001b[1;32min\u001b[0m \u001b[0mstr\u001b[0m\u001b[1;33m(\u001b[0m\u001b[0mk\u001b[0m\u001b[1;33m)\u001b[0m\u001b[1;33m]\u001b[0m\u001b[1;33m\u001b[0m\u001b[0m\n\u001b[1;32m      5\u001b[0m \u001b[1;33m\u001b[0m\u001b[0m\n",
      "\u001b[0;31mNameError\u001b[0m: name 'raw_input' is not defined"
     ]
    }
   ],
   "source": [
    "import matplotlib.pyplot as plt\n",
    "\n",
    "k = raw_input()\n",
    "n = [int(d) for d in str(k)]\n",
    "    \n",
    "def nrzl(n):\n",
    "    import NRZL as nl\n",
    "    nl.nrzlf(n)\n",
    " \n",
    "def nrzi(n):\n",
    "    import NRI as ni\n",
    "    ni.nrzif(n)\n",
    " \n",
    "def ami(n):\n",
    "    import AMI as am\n",
    "    am.amif(n)\n",
    "\n",
    "def manchester(n):\n",
    "    import M as m\n",
    "    m.manf(n)\n",
    "    \n",
    "    \n",
    "def diff_manchester(n):\n",
    "    import DM as dm\n",
    "    dm.dmf(n)\n",
    "    \n",
    "print(\"Enter the type of coding, You want?\")\n",
    "print(\"Enter 0 if you want nrzl\")\n",
    "print(\"Enter 1 if you want nrzi\")\n",
    "print(\"Enter 2 if you want ami\")\n",
    "print(\"Enter 3 if you want Manchester\")\n",
    "print(\"Enter 4 if you want Diff_Manchester\")\n",
    "\n",
    "options = {0 : nrzl,\n",
    "                1 : nrzi,\n",
    "                2 : ami,\n",
    "                3 : manchester,\n",
    "                4 : diff_manchester,\n",
    "}\n",
    "    \n",
    "\n",
    "num = int(input())\n",
    "\n",
    "options[num](n)\n",
    "\n",
    "\n",
    "    "
   ]
  },
  {
   "cell_type": "code",
   "execution_count": null,
   "metadata": {
    "collapsed": true
   },
   "outputs": [],
   "source": []
  },
  {
   "cell_type": "code",
   "execution_count": null,
   "metadata": {
    "collapsed": true
   },
   "outputs": [],
   "source": []
  }
 ],
 "metadata": {
  "kernelspec": {
   "display_name": "Python 3",
   "language": "python",
   "name": "python3"
  },
  "language_info": {
   "codemirror_mode": {
    "name": "ipython",
    "version": 3
   },
   "file_extension": ".py",
   "mimetype": "text/x-python",
   "name": "python",
   "nbconvert_exporter": "python",
   "pygments_lexer": "ipython3",
   "version": "3.6.0"
  }
 },
 "nbformat": 4,
 "nbformat_minor": 2
}
