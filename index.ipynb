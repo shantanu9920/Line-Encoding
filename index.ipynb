{
 "cells": [
  {
   "cell_type": "code",
   "execution_count": 5,
   "metadata": {
    "collapsed": false
   },
   "outputs": [
    {
     "name": "stdout",
     "output_type": "stream",
     "text": [
      "Enter the type of coding, You want?\n",
      "Enter 0 if you want nrzl\n",
      "Enter 1 if you want nrzi\n",
      "Enter 2 if you want ami\n",
      "Enter 3 if you want Manchester\n",
      "Enter 4 if you want Diff_Manchester\n",
      "4\n"
     ]
    },
    {
     "data": {
      "image/png": "[encoded data removed]",
      "text/plain": [
       "<matplotlib.figure.Figure at 0x1d31fbf94e0>"
      ]
     },
     "metadata": {},
     "output_type": "display_data"
    }
   ],
   "source": [
    "import matplotlib.pyplot as plt\n",
    "\n",
    "n = [0,0,1,1,0,1,1,0]\n",
    "    \n",
    "def nrzl(n):\n",
    "    import NRZL as nl\n",
    "    nl.nrzlf(n)\n",
    " \n",
    "def nrzi(n):\n",
    "    import NRI as ni\n",
    "    ni.nrzif(n)\n",
    " \n",
    "def ami(n):\n",
    "    import AMI as am\n",
    "    am.amif(n)\n",
    "\n",
    "def manchester(n):\n",
    "    import M as m\n",
    "    m.manf(n)\n",
    "    \n",
    "    \n",
    "def diff_manchester(n):\n",
    "    import DM as dm\n",
    "    dm.dmf(n)\n",
    "    \n",
    "print(\"Enter the type of coding, You want?\")\n",
    "print(\"Enter 0 if you want nrzl\")\n",
    "print(\"Enter 1 if you want nrzi\")\n",
    "print(\"Enter 2 if you want ami\")\n",
    "print(\"Enter 3 if you want Manchester\")\n",
    "print(\"Enter 4 if you want Diff_Manchester\")\n",
    "\n",
    "options = {0 : nrzl,\n",
    "                1 : nrzi,\n",
    "                2 : ami,\n",
    "                3 : manchester,\n",
    "                4 : diff_manchester,\n",
    "}\n",
    "    \n",
    "\n",
    "num = int(input())\n",
    "\n",
    "options[num](n)\n",
    "\n",
    "\n",
    "    "
   ]
  },
  {
   "cell_type": "code",
   "execution_count": null,
   "metadata": {
    "collapsed": true
   },
   "outputs": [],
   "source": []
  },
  {
   "cell_type": "code",
   "execution_count": null,
   "metadata": {
    "collapsed": true
   },
   "outputs": [],
   "source": []
  }
 ],
 "metadata": {
  "kernelspec": {
   "display_name": "Python 3",
   "language": "python",
   "name": "python3"
  },
  "language_info": {
   "codemirror_mode": {
    "name": "ipython",
    "version": 3
   },
   "file_extension": ".py",
   "mimetype": "text/x-python",
   "name": "python",
   "nbconvert_exporter": "python",
   "pygments_lexer": "ipython3",
   "version": "3.6.0"
  }
 },
 "nbformat": 4,
 "nbformat_minor": 2
}
